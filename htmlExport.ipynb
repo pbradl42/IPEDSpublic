{
 "cells": [
  {
   "cell_type": "code",
   "execution_count": 121,
   "metadata": {},
   "outputs": [],
   "source": [
    "import os\n",
    "import pandas as pd"
   ]
  },
  {
   "cell_type": "code",
   "execution_count": 122,
   "metadata": {},
   "outputs": [],
   "source": [
    "def apply_replacements(replacements, in_file, out_file):\n",
    "    with open(in_file, 'r') as document:\n",
    "        content = document.read()\n",
    "\n",
    "    replacements = {'{{' + k + '}}':v for k, v in replacements.items()}\n",
    "\n",
    "    for placeholder, value in replacements.items():\n",
    "        content = content.replace(placeholder,value)\n",
    "\n",
    "    with open(out_file, 'w') as out_file:\n",
    "        out_file.write(content)"
   ]
  },
  {
   "cell_type": "code",
   "execution_count": 123,
   "metadata": {},
   "outputs": [],
   "source": [
    "def table_export(df):\n",
    "    return df.to_html(index=False).replace('&lt;','<').replace('&gt;','>')"
   ]
  },
  {
   "cell_type": "code",
   "execution_count": 124,
   "metadata": {},
   "outputs": [],
   "source": [
    "def anchorify(content, href):\n",
    "    return f'<a href=\"{href}\">{content}</a>'"
   ]
  },
  {
   "cell_type": "code",
   "execution_count": 125,
   "metadata": {},
   "outputs": [],
   "source": [
    "def wire_links(df):\n",
    "    df['CSV'] = [f'raw_data/{year}/{filename}.zip' for year, filename in zip(df['Year'], df['Data File'])]\n",
    "    df['STATA'] = [f'raw_data/{year}/{filename}_STATA.zip' for year, filename in zip(df['Year'], df['Data File'])]\n",
    "    df['DICT'] = [f'raw_data/{year}/{filename}_Dict.zip' for year, filename in zip(df['Year'], df['Data File'])]\n",
    "    return df[['Year', 'Data File', 'Survey', 'Title', 'CSV', 'STATA', 'DICT']]"
   ]
  },
  {
   "cell_type": "code",
   "execution_count": 126,
   "metadata": {},
   "outputs": [],
   "source": [
    "full_directory = pd.read_csv('full-directory.csv')"
   ]
  },
  {
   "cell_type": "code",
   "execution_count": 127,
   "metadata": {},
   "outputs": [],
   "source": [
    "years = full_directory.sort_values('Year', ascending=False)['Year'].unique()"
   ]
  },
  {
   "cell_type": "code",
   "execution_count": 128,
   "metadata": {},
   "outputs": [],
   "source": [
    "year_options = '\\n'.join([f'<option value=\"{year}\">{year}</option>' for year in years])\n",
    "#year_selector = '<select name=\"year\" id=\"year-select\">' + year_options + '</select>'"
   ]
  },
  {
   "cell_type": "code",
   "execution_count": 129,
   "metadata": {},
   "outputs": [],
   "source": [
    "surveys = ['All Surveys'] + list(full_directory['Survey'].value_counts(ascending = False).keys())\n",
    "survey_options = '\\n'.join([f'<option value=\"{survey}\">{survey}</option>' for survey in surveys])"
   ]
  },
  {
   "cell_type": "code",
   "execution_count": 130,
   "metadata": {},
   "outputs": [],
   "source": [
    "#directory_table = table_export(full_directory)"
   ]
  },
  {
   "cell_type": "code",
   "execution_count": 131,
   "metadata": {},
   "outputs": [],
   "source": [
    "replacements = {\n",
    "    'YEAR_OPTIONS': year_options,\n",
    "    'SURVEY_OPTIONS': survey_options\n",
    "}"
   ]
  },
  {
   "cell_type": "code",
   "execution_count": 132,
   "metadata": {},
   "outputs": [],
   "source": [
    "apply_replacements(replacements, 'index_template.html', 'index.html')"
   ]
  }
 ],
 "metadata": {
  "kernelspec": {
   "display_name": "Python 3",
   "language": "python",
   "name": "python3"
  },
  "language_info": {
   "codemirror_mode": {
    "name": "ipython",
    "version": 3
   },
   "file_extension": ".py",
   "mimetype": "text/x-python",
   "name": "python",
   "nbconvert_exporter": "python",
   "pygments_lexer": "ipython3",
   "version": "3.11.8"
  }
 },
 "nbformat": 4,
 "nbformat_minor": 2
}
