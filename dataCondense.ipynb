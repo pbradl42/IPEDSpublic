{
 "cells": [
  {
   "cell_type": "code",
   "execution_count": 18,
   "metadata": {},
   "outputs": [],
   "source": [
    "import os\n",
    "import pandas as pd"
   ]
  },
  {
   "cell_type": "code",
   "execution_count": 19,
   "metadata": {},
   "outputs": [],
   "source": [
    "def apply_replacements(replacements, in_file, out_file):\n",
    "    with open(in_file, 'r') as document:\n",
    "        content = document.read()\n",
    "\n",
    "    replacements = {'{{' + k + '}}':v for k, v in replacements.items()}\n",
    "\n",
    "    for placeholder, value in replacements.items():\n",
    "        content = content.replace(placeholder,value)\n",
    "\n",
    "    with open(out_file, 'w') as out_file:\n",
    "        out_file.write(content)"
   ]
  },
  {
   "cell_type": "code",
   "execution_count": 20,
   "metadata": {},
   "outputs": [],
   "source": [
    "def table_export(df):\n",
    "    return df.to_html(index=False).replace('&lt;','<').replace('&gt;','>')"
   ]
  },
  {
   "cell_type": "code",
   "execution_count": 21,
   "metadata": {},
   "outputs": [],
   "source": [
    "def anchorify(content, href):\n",
    "    return f'<a href=\"{href}\">{content}</a>'"
   ]
  },
  {
   "cell_type": "code",
   "execution_count": 22,
   "metadata": {},
   "outputs": [],
   "source": [
    "def wire_links(df):\n",
    "    df['CSV'] = [f'raw_data/{year}/{filename}.zip' for year, filename in zip(df['Year'], df['Data File'])]\n",
    "    df['STATA_DATA'] = [f'raw_data/{year}/{filename}_Data_Stata.zip' for year, filename in zip(df['Year'], df['Data File'])]\n",
    "    df['STATA'] = [f'raw_data/{year}/{filename}_STATA.zip' for year, filename in zip(df['Year'], df['Data File'])]\n",
    "    df['DICT'] = [f'raw_data/{year}/{filename}_Dict.zip' for year, filename in zip(df['Year'], df['Data File'])]\n",
    "    df['SPSS'] = [f'raw_data/{year}/{filename}_SPS.zip' for year, filename in zip(df['Year'], df['Data File'])]\n",
    "    df['SAS'] = [f'raw_data/{year}/{filename}_SAS.zip' for year, filename in zip(df['Year'], df['Data File'])]\n",
    "    return df[['Year', 'Data File', 'Survey', 'Title', 'CSV', 'STATA_DATA', 'STATA', 'DICT', 'SPSS', 'SAS']]"
   ]
  },
  {
   "cell_type": "code",
   "execution_count": 23,
   "metadata": {},
   "outputs": [],
   "source": [
    "directories = pd.Series(os.listdir('directory'))"
   ]
  },
  {
   "cell_type": "code",
   "execution_count": 24,
   "metadata": {},
   "outputs": [],
   "source": [
    "years = directories.apply(lambda x: x.split('_')[0]).sort_values().reset_index(drop=True)"
   ]
  },
  {
   "cell_type": "code",
   "execution_count": 25,
   "metadata": {},
   "outputs": [],
   "source": [
    "year_options = '\\n'.join([f'<option value=\"{year}\">{year}</option>' for year in years])\n",
    "year_selector = '<select name=\"year\" id=\"year-select\">' + year_options + '</select>'"
   ]
  },
  {
   "cell_type": "code",
   "execution_count": 26,
   "metadata": {},
   "outputs": [],
   "source": [
    "full_directory = pd.concat([pd.read_csv(f'directory/{directory}') for directory in directories])"
   ]
  },
  {
   "cell_type": "code",
   "execution_count": 27,
   "metadata": {},
   "outputs": [],
   "source": [
    "full_directory = wire_links(full_directory)"
   ]
  },
  {
   "cell_type": "code",
   "execution_count": 28,
   "metadata": {},
   "outputs": [],
   "source": [
    "full_directory = full_directory.sort_values('Year', ascending=False)"
   ]
  },
  {
   "cell_type": "code",
   "execution_count": 36,
   "metadata": {},
   "outputs": [
    {
     "data": {
      "text/plain": [
       "Index(['Year', 'Data File', 'Survey', 'Title', 'CSV', 'STATA_DATA', 'STATA',\n",
       "       'DICT', 'SPSS', 'SAS'],\n",
       "      dtype='object')"
      ]
     },
     "execution_count": 36,
     "metadata": {},
     "output_type": "execute_result"
    }
   ],
   "source": [
    "full_directory.columns"
   ]
  },
  {
   "cell_type": "code",
   "execution_count": 29,
   "metadata": {},
   "outputs": [],
   "source": [
    "full_directory.to_csv('../ipeds-api/full-directory.csv', index=False)\n",
    "full_directory.to_csv('full-directory.csv', index=False)"
   ]
  }
 ],
 "metadata": {
  "kernelspec": {
   "display_name": "Python 3",
   "language": "python",
   "name": "python3"
  },
  "language_info": {
   "codemirror_mode": {
    "name": "ipython",
    "version": 3
   },
   "file_extension": ".py",
   "mimetype": "text/x-python",
   "name": "python",
   "nbconvert_exporter": "python",
   "pygments_lexer": "ipython3",
   "version": "3.11.8"
  }
 },
 "nbformat": 4,
 "nbformat_minor": 2
}
